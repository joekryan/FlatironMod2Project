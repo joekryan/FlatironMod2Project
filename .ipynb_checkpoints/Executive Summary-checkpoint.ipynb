{
 "cells": [
  {
   "cell_type": "markdown",
   "metadata": {},
   "source": [
    "# Executive Summary"
   ]
  },
  {
   "cell_type": "markdown",
   "metadata": {},
   "source": [
    "## The Tasks"
   ]
  },
  {
   "cell_type": "markdown",
   "metadata": {},
   "source": [
    "For this project I was given five tasks:\n",
    "\n",
    "1. Find the total number of goals scored by each team during the 2011 season\n",
    "2. Find the total number of wins each team earned during the 2011 season\n",
    "3. Create a  visualization of the team's wins and losses for the 2011 season \n",
    "4. Find each team's win percentage on days where it was raining during games in the 2011 season.\n",
    "5. Upload this information to MongoDB"
   ]
  },
  {
   "cell_type": "markdown",
   "metadata": {},
   "source": [
    "## The Approach"
   ]
  },
  {
   "cell_type": "markdown",
   "metadata": {},
   "source": [
    "For the `first task` and `second task`, I used SQL to export the database (which comes from this [kaggle page](https://www.kaggle.com/laudanum/footballdelphi) into python pandas dataframes.I then used pandas groupby and sum functions to find the number of goals and number of wins for each team during the 2011 season.\n",
    "\n",
    "For the `third task`, I also used pandas to find the number of losses for each team during the 2011 season. I then used Seaborn to plot a grouped barplot visualisation of the number of wins and number of losses for each team.\n",
    "\n",
    "For the `fourth task`, I used python's json modul to connect to the [DarkSky API](https://darksky.net/dev) to get the historical weather data for each day a match took place in 2011. For the sake of this project, I assumed that all matches took place in Berlin and I used the API's daily icon result to provide the weather variable. This can have one of the following variables: : clear-day, clear-night, rain, snow, sleet, wind, fog, cloudy, partly-cloudy-day, or partly-cloudy-night. I then changed these weather values into a binary rain value: 1 for rain, 0 for not rain. \n",
    "\n",
    "From here, I merged this rain data with the pandas dataframe I created for the first two tasks and then selected only those matches that took place in the rain (i.e. had a rain value of 1). I then found the number of rain-wins and rain-losses for each team and used this to find each team's win percentage in the rain. Finally, I created a single pandas dataframe that contained all the summary statistics for each team in the 2011 season: number of goals, number of wins, number of losses and win percentage in the rain\n",
    "\n",
    "For the `fifth task`, I imported python's pymongo and requests in order to connect to MongoDB and create a collection. I then converted my final pandas dataframe into a dictionary (MongoDB can't read dataframes) and inserted it into my MongoDB collection. I then did the same with a .png file of the visualisation I created for the third task. To check this had worked, I ran MongoDB queries. \n",
    "\n",
    "To finish the project, I built two `classes` using object-oriented programming, to make my code more modular, reusable, understandable, and maintainable. One, WeatherGetter, is for getting the weather for a particular day using DarkSky API. The other, MongoHandler is for uploading dataframes or images to MongoDB.\n",
    "\n"
   ]
  },
  {
   "cell_type": "markdown",
   "metadata": {},
   "source": [
    "## The Problems"
   ]
  },
  {
   "cell_type": "markdown",
   "metadata": {},
   "source": [
    "As with all data science project the issue was not enough data! The dataset I was working with only had the date for each football match and whether it was at home or away. If it had the date and time for each match, as well as the longitude and latitude, my rain-win-percentage analysis would've been improved considerably as I would've been able to use DarkSky API to find out if there was rain during the match, rather than if the day as a whole was rainy.\n",
    "\n",
    "This would also have improved the other main issue I encountered, which was that not every day had an weather icon on DarkSky API. Out of the 165 unique dates I analysed, 47 did not have a daily icon. I coded these dates as a 0 (not rain), but this is clearly not an ideal solution. Having to fill in the data for almost one third of my data points will obviously impact the significance of my results. If I had the data for the time and location each match took place rather than just the day, I wouldn't have had to rely on the DarkSky API's daily icon, but could instead have used, e.g. the precipitation chance at that particular longitude and latitude within that 2 hour period."
   ]
  },
  {
   "cell_type": "code",
   "execution_count": null,
   "metadata": {},
   "outputs": [],
   "source": []
  }
 ],
 "metadata": {
  "kernelspec": {
   "display_name": "Python 3",
   "language": "python",
   "name": "python3"
  },
  "language_info": {
   "codemirror_mode": {
    "name": "ipython",
    "version": 3
   },
   "file_extension": ".py",
   "mimetype": "text/x-python",
   "name": "python",
   "nbconvert_exporter": "python",
   "pygments_lexer": "ipython3",
   "version": "3.7.4"
  }
 },
 "nbformat": 4,
 "nbformat_minor": 2
}
